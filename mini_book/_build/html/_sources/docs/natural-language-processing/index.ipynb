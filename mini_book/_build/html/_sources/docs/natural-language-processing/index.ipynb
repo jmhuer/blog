{
 "cells": [
  {
   "cell_type": "markdown",
   "metadata": {},
   "source": [
    "(about_py)=\n",
    "\n",
    "\n",
    "# Natural Language Processing\n",
    "\n",
    "## Topics\n",
    "\n",
    "-   [Toolbox](http://scikit-learn.org/stable/) An assortment of tools & example used to develop computer vision systems\n",
    "\n",
    "-   [Datasets](http://www.astropy.org/) A table of useful datasets used to train/test computer vision systems"
   ]
  }
 ],
 "metadata": {
  "jupytext": {
   "text_representation": {
    "extension": ".md",
    "format_name": "myst"
   }
  },
  "kernelspec": {
   "display_name": "Python 3",
   "language": "python",
   "name": "python3"
  },
  "language_info": {
   "codemirror_mode": {
    "name": "ipython",
    "version": 3
   },
   "file_extension": ".py",
   "mimetype": "text/x-python",
   "name": "python",
   "nbconvert_exporter": "python",
   "pygments_lexer": "ipython3",
   "version": "3.7.9"
  },
  "source_map": [
   10
  ]
 },
 "nbformat": 4,
 "nbformat_minor": 4
}