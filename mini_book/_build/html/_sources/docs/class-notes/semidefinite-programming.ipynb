{
 "cells": [
  {
   "cell_type": "markdown",
   "metadata": {},
   "source": [
    "# Deep learning\n",
    "\n",
    " <sub> [Computer Vision](https://github.com/jmhuer)</sub>\n",
    "\n",
    " **In this blog post we will compare Frank Wolfe vs ProjGD to solve a contrained optimization problem**\n",
    "\n",
    "\n",
    "## Introduction\n",
    "\n",
    "The Frank Wolfe algorithm can be defined as:\n",
    "\n",
    "***\n",
    "**Projected Gradient Algorithm**\n",
    "***\n",
    "1. Chose initial $x_0$\n",
    "\n",
    "2. For next step: $x^{(k)}=P_{C}\\left(x^{(k-1)}-t_{k} \\nabla f\\left(x^{(k-1)}\\right)\\right)$\n",
    "\n",
    "***\n",
    "\n",
    "## Formal Defenition"
   ]
  }
 ],
 "metadata": {
  "jupytext": {
   "text_representation": {
    "extension": ".md",
    "format_name": "myst"
   }
  },
  "kernelspec": {
   "display_name": "Python 3",
   "language": "python",
   "name": "python3"
  },
  "language_info": {
   "codemirror_mode": {
    "name": "ipython",
    "version": 3
   },
   "file_extension": ".py",
   "mimetype": "text/x-python",
   "name": "python",
   "nbconvert_exporter": "python",
   "pygments_lexer": "ipython3",
   "version": "3.7.9"
  },
  "source_map": [
   10
  ]
 },
 "nbformat": 4,
 "nbformat_minor": 4
}